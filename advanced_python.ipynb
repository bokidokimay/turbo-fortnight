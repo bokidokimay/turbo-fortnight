{
 "cells": [
  {
   "cell_type": "markdown",
   "id": "051f41c2-3a84-44dd-8311-97f2e62c6edd",
   "metadata": {},
   "source": [
    "2023-10-11 第2-第4节 "
   ]
  },
  {
   "cell_type": "markdown",
   "id": "da993a65-3457-4d74-a511-45ded13a74fc",
   "metadata": {},
   "source": [
    "## 列表生成式"
   ]
  },
  {
   "cell_type": "markdown",
   "id": "8b9c1cde-f1ec-4aaa-b095-8754928ac9e6",
   "metadata": {},
   "source": [
    "举个例子，要生成list [1, 2, 3, 4, 5, 6, 7, 8, 9, 10]可以用list(range(1, 11))"
   ]
  },
  {
   "cell_type": "code",
   "execution_count": 1,
   "id": "ad38ddd4-e581-46d6-a868-035b47a9f1bf",
   "metadata": {
    "scrolled": true
   },
   "outputs": [
    {
     "data": {
      "text/plain": [
       "[1, 2, 3, 4, 5, 6, 7, 8, 9, 10]"
      ]
     },
     "execution_count": 1,
     "metadata": {},
     "output_type": "execute_result"
    }
   ],
   "source": [
    "list(range(1, 11))"
   ]
  },
  {
   "cell_type": "markdown",
   "id": "dd5d9d7d-71f1-435a-98bb-4eee9ff0822e",
   "metadata": {},
   "source": [
    "但如果要生成[1x1, 2x2, 3x3, ..., 10x10]怎么做?"
   ]
  },
  {
   "cell_type": "code",
   "execution_count": 2,
   "id": "ca1a3835-063d-4053-9c0d-ddcd92b0ea87",
   "metadata": {},
   "outputs": [
    {
     "name": "stdout",
     "output_type": "stream",
     "text": [
      "[1, 4, 9, 16, 25, 36, 49, 64, 81, 100]\n"
     ]
    }
   ],
   "source": [
    "L = []\n",
    "for x in range(1, 11):\n",
    "    L.append(x*x)\n",
    "print(L)"
   ]
  },
  {
   "cell_type": "markdown",
   "id": "0520a59e-a3ac-410b-91dc-03d03896185e",
   "metadata": {},
   "source": [
    "循环太繁琐，而列表生成式则可以用一行语句代替循环生成上面的list："
   ]
  },
  {
   "cell_type": "code",
   "execution_count": 3,
   "id": "ce928962-e3f3-4203-b36a-c30df3a9508e",
   "metadata": {},
   "outputs": [
    {
     "data": {
      "text/plain": [
       "[1, 4, 9, 16, 25, 36, 49, 64, 81, 100]"
      ]
     },
     "execution_count": 3,
     "metadata": {},
     "output_type": "execute_result"
    }
   ],
   "source": [
    "[x * x for x in range(1, 11)]"
   ]
  },
  {
   "cell_type": "markdown",
   "id": "e9676e59-6364-42ba-a601-34902d481289",
   "metadata": {},
   "source": [
    "写列表生成式时，把要生成的元素x * x放到前面，后面跟for循环，就可以把list创建出来"
   ]
  },
  {
   "cell_type": "markdown",
   "id": "f2662baa-8319-4aad-bc8b-b2273c10cf8b",
   "metadata": {},
   "source": [
    "for循环后面还可以加上if判断，这样我们就可以筛选出仅偶数的平方："
   ]
  },
  {
   "cell_type": "code",
   "execution_count": 4,
   "id": "0d98b969-d00a-4cfa-b8f8-9ffb8616c689",
   "metadata": {
    "collapsed": true,
    "jupyter": {
     "outputs_hidden": true
    }
   },
   "outputs": [
    {
     "data": {
      "text/plain": [
       "[4, 16, 36, 64, 100]"
      ]
     },
     "execution_count": 4,
     "metadata": {},
     "output_type": "execute_result"
    }
   ],
   "source": [
    "[x * x for x in range(1, 11) if x % 2 == 0]"
   ]
  },
  {
   "cell_type": "markdown",
   "id": "91556ee0-0d48-4242-a458-c0ea7150e51e",
   "metadata": {},
   "source": [
    "还可以使用两层循环，可以生成全排列："
   ]
  },
  {
   "cell_type": "code",
   "execution_count": 4,
   "id": "6b5db2bb-df5a-4ec7-bc41-2dfc94dc34ab",
   "metadata": {},
   "outputs": [
    {
     "data": {
      "text/plain": [
       "['AX', 'AY', 'AZ', 'BX', 'BY', 'BZ', 'CX', 'CY', 'CZ']"
      ]
     },
     "execution_count": 4,
     "metadata": {},
     "output_type": "execute_result"
    }
   ],
   "source": [
    " [m + n for m in 'ABC' for n in 'XYZ']"
   ]
  },
  {
   "cell_type": "markdown",
   "id": "ebe71767-7920-43c3-b120-4733e5238add",
   "metadata": {},
   "source": [
    "运用列表生成式，可以写出非常简洁的代码。例如，列出当前目录下的所有文件和目录名，可以通过一行代码实现："
   ]
  },
  {
   "cell_type": "code",
   "execution_count": 6,
   "id": "c5b682b9-d6bc-4403-ae32-0f041e663b8f",
   "metadata": {},
   "outputs": [
    {
     "data": {
      "text/plain": [
       "['.ipynb_checkpoints', '.virtual_documents', 'advanced_python.ipynb']"
      ]
     },
     "execution_count": 6,
     "metadata": {},
     "output_type": "execute_result"
    }
   ],
   "source": [
    "import os\n",
    "[d for d in os.listdir('.')] # os.listdir可以列出文件和目录"
   ]
  },
  {
   "cell_type": "markdown",
   "id": "cf09191a-e51c-4cd5-9901-1cc9b74849a3",
   "metadata": {},
   "source": [
    "for循环其实可以同时使用两个甚至多个变量，比如dict的items()可以同时迭代key和value："
   ]
  },
  {
   "cell_type": "code",
   "execution_count": 8,
   "id": "6f577333-3ac6-4e06-8940-00efc62d75c4",
   "metadata": {},
   "outputs": [
    {
     "name": "stdout",
     "output_type": "stream",
     "text": [
      "x = 0\n",
      "y = B\n",
      "z = C\n",
      "dict_items([('x', 0), ('y', 'B'), ('z', 'C')])\n"
     ]
    }
   ],
   "source": [
    "d = {'x': 0, 'y': 'B', 'z': 'C' }\n",
    "for k, v in d.items():\n",
    "    print(k,'=',v)\n",
    "print(d.items())"
   ]
  },
  {
   "cell_type": "markdown",
   "id": "141d7e05-0df1-4417-aece-7fb6c72ed37f",
   "metadata": {},
   "source": [
    "列表生成式也可以使用两个变量来生成list"
   ]
  },
  {
   "cell_type": "code",
   "execution_count": 9,
   "id": "78699a57-0cdf-4a7e-9694-52a44e5897b8",
   "metadata": {},
   "outputs": [
    {
     "data": {
      "text/plain": [
       "['x=A', 'y=B', 'z=C']"
      ]
     },
     "execution_count": 9,
     "metadata": {},
     "output_type": "execute_result"
    }
   ],
   "source": [
    "d = {'x': 'A', 'y': 'B', 'z': 'C' }\n",
    "[k + '=' + v for k, v in d.items()]"
   ]
  },
  {
   "cell_type": "markdown",
   "id": "25699dce-15d8-414b-890e-beed882f30c5",
   "metadata": {},
   "source": [
    "把一个list中所有的字符串变成小写："
   ]
  },
  {
   "cell_type": "code",
   "execution_count": 11,
   "id": "5bfc6af0-65d9-4ee3-82ba-98457620b385",
   "metadata": {},
   "outputs": [
    {
     "data": {
      "text/plain": [
       "['hello', 'world', 'ibm', 'apple']"
      ]
     },
     "execution_count": 11,
     "metadata": {},
     "output_type": "execute_result"
    }
   ],
   "source": [
    "L = ['Hello', 'World', 'IBM', 'Apple']\n",
    "[s.lower() for s in L] #匿名函数"
   ]
  },
  {
   "cell_type": "markdown",
   "id": "69b8ac6f-e379-4bac-9dd0-0a15128ce842",
   "metadata": {},
   "source": [
    "使用内建的isinstance函数可以判断一个变量是不是字符串："
   ]
  },
  {
   "cell_type": "code",
   "execution_count": 12,
   "id": "78401870-1b84-48fc-8dfe-3eaccd20608a",
   "metadata": {},
   "outputs": [
    {
     "name": "stdout",
     "output_type": "stream",
     "text": [
      "True\n",
      "False\n"
     ]
    }
   ],
   "source": [
    "x = 'abc'\n",
    "y = 123\n",
    "print(isinstance(x, str))\n",
    "print(isinstance(y, str))"
   ]
  },
  {
   "cell_type": "markdown",
   "id": "11b31373-d0ea-46a7-93f7-0cb6ff6dcc7f",
   "metadata": {},
   "source": [
    "# 生成器\n",
    "<p><strong>(训练深度神经网络时往往需要利用生成器的概念将批量训练数据输入给模型进行训练调整)<strong></p>"
   ]
  },
  {
   "cell_type": "markdown",
   "id": "1c523223-228d-477c-a9a1-c1edc8f706e4",
   "metadata": {},
   "source": [
    "通过列表生成式，我们可以直接创建一个列表。但是，受到内存限制，列表容量肯定是有限的。  \n",
    "而且，创建一个包含100万个元素的列表，不仅占用很大的存储空间，如果我们仅仅需要访问前面几个元素，那后面绝大多数元素占用的空间都白白浪费了。  \n",
    "\n",
    "所以，如果列表元素可以按照某种算法推算出来，那我们是否可以在循环的过程中不断推算出后续的元素呢？  \n",
    "这样就不必创建完整的list，从而节省大量的空间。  \n",
    "在Python中，这种一边循环一边计算的机制，称为生成器：generator。  "
   ]
  },
  {
   "cell_type": "markdown",
   "id": "4a5caff5-6dc6-470f-8f38-c05861d0a84b",
   "metadata": {},
   "source": [
    "1. 创建一个generator，有很多种方法。第一种方法很简单，只要把一个列表生成式的[]改成()，就创建了一个generator："
   ]
  },
  {
   "cell_type": "code",
   "execution_count": 13,
   "id": "a566f231-a201-4884-8cb9-e693612b016f",
   "metadata": {},
   "outputs": [
    {
     "data": {
      "text/plain": [
       "[0, 1, 4, 9]"
      ]
     },
     "execution_count": 13,
     "metadata": {},
     "output_type": "execute_result"
    }
   ],
   "source": [
    "L = [x * x for x in range(4)]#这是列表\n",
    "L"
   ]
  },
  {
   "cell_type": "code",
   "execution_count": 14,
   "id": "30952120-e615-41ba-9a75-6fc0fbd7fa1c",
   "metadata": {},
   "outputs": [
    {
     "data": {
      "text/plain": [
       "<generator object <genexpr> at 0x000001BE295269B0>"
      ]
     },
     "execution_count": 14,
     "metadata": {},
     "output_type": "execute_result"
    }
   ],
   "source": [
    "g = (x * x for x in range(4)) #用()就变成生成器了\n",
    "g"
   ]
  },
  {
   "cell_type": "markdown",
   "id": "e6a59163-cfd3-45a6-9375-78ea297d904b",
   "metadata": {},
   "source": [
    "创建L和g的区别仅在于最外层的[]和()，L是一个list，而g是一个generator。"
   ]
  },
  {
   "cell_type": "markdown",
   "id": "4a1ff731-ee90-4587-a8cd-756a197787b1",
   "metadata": {},
   "source": [
    "我们可以直接打印出list的每一个元素，但我们怎么打印出generator的每一个元素呢？  \n",
    "如果要一个一个打印出来，可以通过next()函数获得generator的下一个返回值：  "
   ]
  },
  {
   "cell_type": "code",
   "execution_count": 15,
   "id": "e51f85d9-c025-4371-bbb8-cde78dbcd9f4",
   "metadata": {},
   "outputs": [
    {
     "data": {
      "text/plain": [
       "0"
      ]
     },
     "execution_count": 15,
     "metadata": {},
     "output_type": "execute_result"
    }
   ],
   "source": [
    "next(g)"
   ]
  },
  {
   "cell_type": "code",
   "execution_count": 16,
   "id": "1d125474-9b4b-4198-a9c1-b5f7ffdee075",
   "metadata": {},
   "outputs": [
    {
     "data": {
      "text/plain": [
       "1"
      ]
     },
     "execution_count": 16,
     "metadata": {},
     "output_type": "execute_result"
    }
   ],
   "source": [
    "next(g)"
   ]
  },
  {
   "cell_type": "code",
   "execution_count": 17,
   "id": "f2e0a941-1966-4ee7-b84e-a1e53081bccb",
   "metadata": {},
   "outputs": [
    {
     "data": {
      "text/plain": [
       "4"
      ]
     },
     "execution_count": 17,
     "metadata": {},
     "output_type": "execute_result"
    }
   ],
   "source": [
    "next(g)"
   ]
  },
  {
   "cell_type": "code",
   "execution_count": 18,
   "id": "b04f7836-fc75-4c49-8fe6-fd29453439f4",
   "metadata": {},
   "outputs": [
    {
     "data": {
      "text/plain": [
       "9"
      ]
     },
     "execution_count": 18,
     "metadata": {},
     "output_type": "execute_result"
    }
   ],
   "source": [
    "next(g)"
   ]
  },
  {
   "cell_type": "code",
   "execution_count": 19,
   "id": "3b37a5ef-3e79-46b5-98b0-4a2182c7a942",
   "metadata": {},
   "outputs": [
    {
     "ename": "StopIteration",
     "evalue": "",
     "output_type": "error",
     "traceback": [
      "\u001b[1;31m---------------------------------------------------------------------------\u001b[0m",
      "\u001b[1;31mStopIteration\u001b[0m                             Traceback (most recent call last)",
      "Cell \u001b[1;32mIn[19], line 1\u001b[0m\n\u001b[1;32m----> 1\u001b[0m \u001b[38;5;28mnext\u001b[39m(g)\n",
      "\u001b[1;31mStopIteration\u001b[0m: "
     ]
    }
   ],
   "source": [
    "next(g) #在没有下一个元素时会弹出StopIteration异常"
   ]
  },
  {
   "cell_type": "markdown",
   "id": "669f1a83-80b1-4900-a6c9-36ea1f19de25",
   "metadata": {},
   "source": [
    "generator保存的是算法，每次调用next(g)，就计算出g的下一个元素的值，直到计算到最后一个元素，没有更多的元素时，抛出StopIteration的错误。"
   ]
  },
  {
   "cell_type": "markdown",
   "id": "d19d7136-7fac-4ff5-af57-3481f5342c24",
   "metadata": {},
   "source": [
    "#### 更常用的方式是使用for循环，因为generator也是可迭代对象："
   ]
  },
  {
   "cell_type": "code",
   "execution_count": 20,
   "id": "02aed5cd-f2f0-4def-97a7-a336ee8d17fa",
   "metadata": {},
   "outputs": [
    {
     "name": "stdout",
     "output_type": "stream",
     "text": [
      "0\n",
      "1\n",
      "4\n",
      "9\n"
     ]
    }
   ],
   "source": [
    "g = (x * x for x in range(4)) #创建生成器\n",
    "for n in g:\n",
    "    print(n)"
   ]
  },
  {
   "cell_type": "markdown",
   "id": "6dfd94f8-ca9d-4547-8680-ea82426efdd6",
   "metadata": {},
   "source": [
    "如果推算的算法比较复杂，用类似列表生成式的for循环无法实现的时候，还可以用函数来实现。"
   ]
  },
  {
   "cell_type": "markdown",
   "id": "1e15cba9-f0ef-44a9-af7b-d913c65bacf6",
   "metadata": {},
   "source": [
    "著名的斐波拉契数列（Fibonacci），除第一个和第二个数外，任意一个数都可由前两个数相加得到：  \n",
    "1, 1, 2, 3, 5, 8, 13, 21, 34, ..."
   ]
  },
  {
   "cell_type": "markdown",
   "id": "772331df-107f-4c14-b401-56dc6f9ad86a",
   "metadata": {},
   "source": [
    "斐波拉契数列用列表生成式写不出来，但是，用函数把它打印出来却很容易："
   ]
  },
  {
   "cell_type": "code",
   "execution_count": 21,
   "id": "be64ee59-b6ae-429f-a922-7f9269f0decf",
   "metadata": {},
   "outputs": [],
   "source": [
    "def fib(max):\n",
    "    n,a,b = 0,0,1\n",
    "    while n < max:\n",
    "        print(b)\n",
    "        a,b = b, a+b #此处赋值语句相当于：t = (b, a + b) # t是一个tuple   \n",
    "                                      # a = t[0]   b = t[1]  \n",
    "        n += 1\n",
    "    #return 'finished'"
   ]
  },
  {
   "cell_type": "markdown",
   "id": "f1bee1b9-85b8-47e0-972f-cfe70bdd169b",
   "metadata": {},
   "source": [
    "上面的函数可以输出斐波那契数列的前N个数："
   ]
  },
  {
   "cell_type": "code",
   "execution_count": 22,
   "id": "05cfba11-1fab-448a-817f-3bf201f57cd1",
   "metadata": {},
   "outputs": [
    {
     "name": "stdout",
     "output_type": "stream",
     "text": [
      "1\n",
      "1\n",
      "2\n",
      "3\n",
      "5\n",
      "8\n"
     ]
    }
   ],
   "source": [
    "fib(6)"
   ]
  },
  {
   "cell_type": "markdown",
   "id": "ef784ae8-9db4-43ae-a60e-a3cd6bebe1ee",
   "metadata": {},
   "source": [
    "fib函数实际上是定义了斐波拉契数列的推算规则，可以从第一个元素开始，推算出后续任意的元素，这种逻辑其实非常类似generator"
   ]
  },
  {
   "cell_type": "markdown",
   "id": "adb5d72b-0a53-4d6b-b5f2-b9c6c82ec583",
   "metadata": {},
   "source": [
    "要把fib函数变成generator函数，只需要把print(b)改为yield b就可以了  \n",
    "\n",
    "先把yield看做“return”，这个是直观的，它首先是个return    \n",
    "看做return之后再把它看做一个是生成器（generator）的一部分（带yield的函数才是真正的迭代器）  \n",
    "可以把生成器看做是C语言中使用寄存器的函数"
   ]
  },
  {
   "cell_type": "code",
   "execution_count": 23,
   "id": "c7bcf8b7-2322-4db3-9c62-25c7ff4f5c41",
   "metadata": {},
   "outputs": [],
   "source": [
    "def fib(max):\n",
    "    n, a, b = 0, 0, 1\n",
    "    while n < max:\n",
    "        yield b\n",
    "        a, b = b, a + b\n",
    "        n = n + 1\n",
    "    #return 'done'"
   ]
  },
  {
   "cell_type": "markdown",
   "id": "b9b751f7-3626-4e2d-a12a-a5b81d23daba",
   "metadata": {},
   "source": [
    "如果一个函数定义中包含yield关键字，那么这个函数就不再是一个普通函数，而是一个generator函数，调用一个generator函数将返回一个generator"
   ]
  },
  {
   "cell_type": "code",
   "execution_count": 24,
   "id": "475ae527-09f3-475b-a659-f1506b96c846",
   "metadata": {
    "scrolled": true
   },
   "outputs": [
    {
     "data": {
      "text/plain": [
       "generator"
      ]
     },
     "execution_count": 24,
     "metadata": {},
     "output_type": "execute_result"
    }
   ],
   "source": [
    "f = fib(6)\n",
    "type(f)"
   ]
  },
  {
   "cell_type": "code",
   "execution_count": 25,
   "id": "16430203-0376-4536-baad-4b046155ebd5",
   "metadata": {},
   "outputs": [
    {
     "name": "stdout",
     "output_type": "stream",
     "text": [
      "1\n",
      "1\n",
      "2\n",
      "3\n",
      "5\n",
      "8\n"
     ]
    }
   ],
   "source": [
    "for n in f:\n",
    "    print(n)"
   ]
  },
  {
   "cell_type": "markdown",
   "id": "890e6dd7-b1a9-4936-97cc-a523405ce952",
   "metadata": {},
   "source": [
    "下面再来回顾一下yield"
   ]
  },
  {
   "cell_type": "code",
   "execution_count": 26,
   "id": "944f9e9c-a5ba-477f-9bad-b701277fb727",
   "metadata": {},
   "outputs": [
    {
     "name": "stdout",
     "output_type": "stream",
     "text": [
      "starting...\n",
      "the  1 -th step\n",
      "4\n"
     ]
    }
   ],
   "source": [
    "def foo():\n",
    "    print(\"starting...\")\n",
    "    cnt = 0\n",
    "    while True: \n",
    "        cnt+=1\n",
    "        print('the ',cnt,'-th step')\n",
    "        res = yield 4  # 程序开始执行以后，因为foo函数中有yield关键字，所以foo函数并不会真的执行，而是先得到一个生成器g(相当于一个对象)\n",
    "                       # 直到调用next方法，foo函数正式开始执行，先执行foo函数中的print方法，然后进入while循环\n",
    "                       # 程序遇到yield关键字，然后把yield想象成return,return了一个4之后，程序停止，并没有执行赋值给res操作\n",
    "        print(\"res:\",res) \n",
    "g = foo()\n",
    "print(next(g)) #此时在寄存器里保留yield(return)的位置\n",
    "\n",
    "\n"
   ]
  },
  {
   "cell_type": "code",
   "execution_count": 27,
   "id": "668c6a99-56d6-452c-8139-b6d807b4fa7d",
   "metadata": {},
   "outputs": [
    {
     "name": "stdout",
     "output_type": "stream",
     "text": [
      "res: None\n",
      "the  2 -th step\n"
     ]
    },
    {
     "ename": "NameError",
     "evalue": "name 'res' is not defined",
     "output_type": "error",
     "traceback": [
      "\u001b[1;31m---------------------------------------------------------------------------\u001b[0m",
      "\u001b[1;31mNameError\u001b[0m                                 Traceback (most recent call last)",
      "Cell \u001b[1;32mIn[27], line 1\u001b[0m\n\u001b[1;32m----> 1\u001b[0m \u001b[38;5;28mprint\u001b[39m(\u001b[38;5;28mnext\u001b[39m(g),res)\n",
      "\u001b[1;31mNameError\u001b[0m: name 'res' is not defined"
     ]
    }
   ],
   "source": [
    "print(next(g),res) #在此调用next(g),不是重新调用foo函数，而是从对象g的上次yiled位置向下执行，所以下面输出的第一行res的值是None，因为本次调用没有对res赋值\n",
    "               #之后程序会在while循环中循环，因此会调用print('the ',cnt,'-th step')，之后函数返回4，此时res仍然没有被复制 \n",
    "               #也就是说foo函数中的res始终无法被复制，而是程序到这里就直接返回数值4到调用该函数的地方了"
   ]
  },
  {
   "cell_type": "code",
   "execution_count": 28,
   "id": "6c877a1c-8c7c-4163-a5f7-d4526041ddae",
   "metadata": {},
   "outputs": [
    {
     "name": "stdout",
     "output_type": "stream",
     "text": [
      "res: None\n",
      "the  3 -th step\n",
      "4\n"
     ]
    }
   ],
   "source": [
    "print(next(g)) "
   ]
  },
  {
   "cell_type": "markdown",
   "id": "2494dc7b-b9ce-4d91-8b43-1ada15689654",
   "metadata": {},
   "source": [
    "<p><strong>到这里你可能就明白yield和return的关系和区别了，带yield的函数是一个生成器，而不是一个函数了，<br>这个生成器有一个函数就是next函数，next就相当于“下一步”生成哪个数，这一次的next开始的地方是接着上一次的next停止的地方执行的，<br>\n",
    "所以调用next的时候，生成器并不会从foo函数的开始执行，<br>只是接着上一步停止的地方开始，然后遇到yield后，return出要生成的数，此步就结束。  </strong>  </p>\n",
    "<p>————————————————  </p>\r\n",
    "版权声明：本文为CSDN博主「冯爽朗」的原创文章，遵循CC 4.0 BY-SA版权协议，转载请附上原文出处链接及本声明。\r\n",
    "原文链接：https://blog.csdn.net/mieleizhi0522/article/details/82142856"
   ]
  },
  {
   "cell_type": "markdown",
   "id": "ac14241f-9889-41e9-b12b-834fe2484af2",
   "metadata": {},
   "source": []
  },
  {
   "cell_type": "markdown",
   "id": "f6fefa4f-6d44-4166-a84a-7c98d37414a0",
   "metadata": {},
   "source": [
    "## map函数"
   ]
  },
  {
   "cell_type": "markdown",
   "id": "1a4a1720-3236-4e34-852b-c65cea4ce3bf",
   "metadata": {},
   "source": [
    "map()函数接收两个参数，一个是函数，一个是Iterable，map将传入的函数依次作用到序列的每个元素，并把结果作为新的Iterator返回"
   ]
  },
  {
   "cell_type": "code",
   "execution_count": 29,
   "id": "cd7cf51c-725b-4fc0-ae46-564ef681440f",
   "metadata": {},
   "outputs": [
    {
     "data": {
      "text/plain": [
       "<map at 0x1be296dbee0>"
      ]
     },
     "execution_count": 29,
     "metadata": {},
     "output_type": "execute_result"
    }
   ],
   "source": [
    "def f(x):\n",
    "    return x * x\n",
    "\n",
    "r = map(f,[1,2,3,4,5])\n",
    "type(r)\n",
    "r"
   ]
  },
  {
   "cell_type": "code",
   "execution_count": 30,
   "id": "2e643de5-c4c7-4965-bb87-9afe78bea8cb",
   "metadata": {},
   "outputs": [
    {
     "data": {
      "text/plain": [
       "[1, 4, 9, 16, 25]"
      ]
     },
     "execution_count": 30,
     "metadata": {},
     "output_type": "execute_result"
    }
   ],
   "source": [
    "list(r) #"
   ]
  },
  {
   "cell_type": "markdown",
   "id": "06fee908-e7fa-473d-a972-4e106830c8d7",
   "metadata": {},
   "source": [
    "## filter函数"
   ]
  },
  {
   "cell_type": "markdown",
   "id": "4ef8d887-af17-4193-82ed-017e7dfaac18",
   "metadata": {},
   "source": [
    "和map()类似，filter()也接收一个函数和一个序列。和map()不同的是，filter()把传入的函数依次作用于每个元素，然后根据返回值是True还是False决定保留还是丢弃该元素。"
   ]
  },
  {
   "cell_type": "code",
   "execution_count": 31,
   "id": "92810b32-0ccf-46e7-8177-e3818aed517a",
   "metadata": {},
   "outputs": [
    {
     "data": {
      "text/plain": [
       "[1, 3, 5, 7, 9]"
      ]
     },
     "execution_count": 31,
     "metadata": {},
     "output_type": "execute_result"
    }
   ],
   "source": [
    "def is_odd(n):\n",
    "    return n % 2 == 1\n",
    "\n",
    "list(filter(is_odd,[1,2,3,4,5,6,7,8,9]))"
   ]
  },
  {
   "cell_type": "code",
   "execution_count": 32,
   "id": "54bc527f-3fc9-4c99-9d36-bb136b458e08",
   "metadata": {},
   "outputs": [
    {
     "data": {
      "text/plain": [
       "['A', 'B', 'C']"
      ]
     },
     "execution_count": 32,
     "metadata": {},
     "output_type": "execute_result"
    }
   ],
   "source": [
    "#把一个序列中的空字符串删掉\n",
    "def not_empty(s):\n",
    "    return s and s.strip()\n",
    "\n",
    "list(filter(not_empty, ['A', '', 'B', None, 'C', '  '])) "
   ]
  },
  {
   "cell_type": "markdown",
   "id": "0b9f1670-9259-4143-a85e-bfc116a5091b",
   "metadata": {},
   "source": [
    "## sorted函数"
   ]
  },
  {
   "cell_type": "code",
   "execution_count": 33,
   "id": "8700f588-8a75-435e-b608-47f05e3a3c30",
   "metadata": {},
   "outputs": [
    {
     "data": {
      "text/plain": [
       "[-21, -12, 5, 9, 36]"
      ]
     },
     "execution_count": 33,
     "metadata": {},
     "output_type": "execute_result"
    }
   ],
   "source": [
    "sorted([36, 5, -12, 9, -21]) #默认按照升序排列"
   ]
  },
  {
   "cell_type": "code",
   "execution_count": 34,
   "id": "6a9bd7d7-6a85-45f0-8c6b-0b9812245449",
   "metadata": {},
   "outputs": [
    {
     "data": {
      "text/plain": [
       "[5, 9, -12, -21, 36]"
      ]
     },
     "execution_count": 34,
     "metadata": {},
     "output_type": "execute_result"
    }
   ],
   "source": [
    "# sorted()函数也是一个高阶函数，它还可以接收一个key函数来实现自定义的排序，例如按绝对值大小排序\n",
    "sorted([36, 5, -12, 9, -21], key=abs)\n"
   ]
  },
  {
   "cell_type": "markdown",
   "id": "959042b9-845d-4c28-a2a5-2dbf612350b3",
   "metadata": {},
   "source": [
    "## 匿名函数lambda"
   ]
  },
  {
   "cell_type": "markdown",
   "id": "ea8a0b21-cf79-48cd-9d15-6bc880aeafdb",
   "metadata": {},
   "source": [
    "<p>当我们在传入函数时，有些时候，不需要显式地定义函数，直接传入匿名函数更方便<br></p>"
   ]
  },
  {
   "cell_type": "code",
   "execution_count": 35,
   "id": "17786dde-ed0b-4547-8199-4434062da220",
   "metadata": {},
   "outputs": [
    {
     "data": {
      "text/plain": [
       "[1, 4, 9, 16, 25, 36, 49, 64, 81]"
      ]
     },
     "execution_count": 35,
     "metadata": {},
     "output_type": "execute_result"
    }
   ],
   "source": [
    "list(map(lambda x: x * x, [1, 2, 3, 4, 5, 6, 7, 8, 9]))"
   ]
  },
  {
   "cell_type": "code",
   "execution_count": 36,
   "id": "d243a91c-59a8-4fc9-940a-36f3aa7a11b2",
   "metadata": {},
   "outputs": [],
   "source": [
    "#匿名函数lambda x: x * x实际上就是：\n",
    "def f(x):\n",
    "    return x * x"
   ]
  },
  {
   "cell_type": "markdown",
   "id": "2284bc33-c36c-41b3-a4a4-4361c908d087",
   "metadata": {},
   "source": [
    "<p>键字lambda表示匿名函数，冒号前面的x表示函数参数<br>\n",
    "<strong>匿名函数有个限制，就是只能有一个表达式，不用写return，返回值就是该表达式的结果</strong><br>\n",
    "用匿名函数有个好处，因为函数没有名字，不必担心函数名冲突。此外，匿名函数也是一个函数对象，也可以把匿名函数赋值给一个变量，再利用变量来调用该函数：</p>"
   ]
  },
  {
   "cell_type": "code",
   "execution_count": 37,
   "id": "903d8401-0a2d-4ca8-b43e-0edbed64fbdf",
   "metadata": {},
   "outputs": [
    {
     "data": {
      "text/plain": [
       "<function __main__.<lambda>(x)>"
      ]
     },
     "execution_count": 37,
     "metadata": {},
     "output_type": "execute_result"
    }
   ],
   "source": [
    "f = lambda x: x * x\n",
    "f"
   ]
  },
  {
   "cell_type": "code",
   "execution_count": 38,
   "id": "e43a7a1a-4c65-40b0-a6f4-c3a4011cff9f",
   "metadata": {},
   "outputs": [
    {
     "data": {
      "text/plain": [
       "25"
      ]
     },
     "execution_count": 38,
     "metadata": {},
     "output_type": "execute_result"
    }
   ],
   "source": [
    "f(5)"
   ]
  },
  {
   "cell_type": "code",
   "execution_count": 119,
   "id": "4e7ea195-cd87-4926-81cf-354398f94a0f",
   "metadata": {
    "collapsed": true,
    "jupyter": {
     "outputs_hidden": true
    }
   },
   "outputs": [
    {
     "data": {
      "text/plain": [
       "[1, 4, 9, 16]"
      ]
     },
     "execution_count": 119,
     "metadata": {},
     "output_type": "execute_result"
    }
   ],
   "source": [
    "f = lambda x:x*x\n",
    "list(map(f,[1,2,3,4]))"
   ]
  },
  {
   "cell_type": "markdown",
   "id": "825260d1-d5b0-42fc-bfd0-c13f0eb6e8b7",
   "metadata": {},
   "source": [
    "## `*args` 和 `**kwargs`的用法"
   ]
  },
  {
   "cell_type": "markdown",
   "id": "1542840b-ec48-4df3-958c-2a3c458f5d36",
   "metadata": {},
   "source": [
    "<p>*args 和 **kwargs 是编程人员约定的变量名字<br>\n",
    "args 是 arguments 的缩写，表示位置参数；<br>\n",
    "kwargs 是 keyword arguments 的缩写，表示关键字参数<br>\n",
    "</p>"
   ]
  },
  {
   "cell_type": "markdown",
   "id": "73a498e7-c718-4106-844b-17cc10522705",
   "metadata": {},
   "source": [
    "首先，*表示解耦合,解除list和tuple的一层耦合"
   ]
  },
  {
   "cell_type": "code",
   "execution_count": 39,
   "id": "a85022f6-3118-4a92-ae1a-28557ae719ff",
   "metadata": {},
   "outputs": [
    {
     "name": "stdout",
     "output_type": "stream",
     "text": [
      "b: [[1, 2, 3], 4, 5]\n",
      "c: [1, 2, 3, 4, 5]\n"
     ]
    }
   ],
   "source": [
    "a = [1,2,3]\n",
    "b = [a,4,5]\n",
    "c = [*a,4,5]\n",
    "print('b:',b)\n",
    "print('c:',c)"
   ]
  },
  {
   "cell_type": "code",
   "execution_count": 40,
   "id": "441fc32a-59cd-44fa-9e6f-446307ca6050",
   "metadata": {},
   "outputs": [
    {
     "name": "stdout",
     "output_type": "stream",
     "text": [
      "b: [(1, 2, 3), 4, 5]\n",
      "c: [1, 2, 3, 4, 5]\n"
     ]
    }
   ],
   "source": [
    "a = (1,2,3)\n",
    "b = [a,4,5]\n",
    "c = [*a,4,5]\n",
    "print('b:',b)\n",
    "print('c:',c)"
   ]
  },
  {
   "cell_type": "markdown",
   "id": "c835fda6-63d6-49d1-99d0-4a90cd05a2b9",
   "metadata": {},
   "source": [
    "向python传递参数的方式有两种:   \n",
    "- 位置参数（positional argument）   \n",
    "- 关键词参数（keyword argument） "
   ]
  },
  {
   "cell_type": "markdown",
   "id": "3b70d05c-e8fc-4af8-bd18-454fe97afeca",
   "metadata": {},
   "source": [
    "*args 表示任何多个无名参数， 他本质上是一个 tuple  \n",
    "** kwargs 表示关键字参数， 它本质上是一个 dict"
   ]
  },
  {
   "cell_type": "markdown",
   "id": "acf21ad3-ba84-4405-8de6-c2f41b39e9c2",
   "metadata": {},
   "source": [
    "*args和**kwargs将不定数量的参数传递给一个函数.  \n",
    "同时使用时必须要求 *args 参数列要在** kwargs 前面"
   ]
  },
  {
   "cell_type": "code",
   "execution_count": 42,
   "id": "f8663903-b7ab-480d-ac76-d9e34a977b94",
   "metadata": {},
   "outputs": [],
   "source": [
    "def test_var_args(f_arg, *argv):\n",
    "    print(\"first normal arg:\",f_arg)\n",
    "    for arg in argv:\n",
    "        print(\"another arg through *argv:\",arg)"
   ]
  },
  {
   "cell_type": "code",
   "execution_count": 43,
   "id": "fcdd3a21-7f93-4721-bfa3-84d0de7c1cdc",
   "metadata": {},
   "outputs": [
    {
     "name": "stdout",
     "output_type": "stream",
     "text": [
      "first normal arg: yasoob\n",
      "another arg through *argv: python\n",
      "another arg through *argv: eggs\n",
      "another arg through *argv: test\n"
     ]
    }
   ],
   "source": [
    "test_var_args('yasoob','python','eggs','test') #第一个参数是'yasoob'，后面三个作为一个list赋给arg了"
   ]
  },
  {
   "cell_type": "markdown",
   "id": "5aef041f-a198-471a-84b2-293a3801e471",
   "metadata": {},
   "source": [
    "定义一个打印的函数，传入任意参数即可"
   ]
  },
  {
   "cell_type": "code",
   "execution_count": 44,
   "id": "08d9bcd7-806b-4234-9ad2-8f13a7988f9f",
   "metadata": {},
   "outputs": [
    {
     "name": "stdout",
     "output_type": "stream",
     "text": [
      "<class 'tuple'>\n",
      "(1, 2, 'python希望社', [])\n"
     ]
    }
   ],
   "source": [
    "def print_func(*args):\n",
    "    print(type(args))\n",
    "    print(args)\n",
    "print_func(1,2,'python希望社',[])"
   ]
  },
  {
   "cell_type": "markdown",
   "id": "c03b5bd1-f788-4e3d-931a-88beb3b4c926",
   "metadata": {},
   "source": [
    "在打印函数的参数处，新增 x 和 y 变量"
   ]
  },
  {
   "cell_type": "code",
   "execution_count": 45,
   "id": "7ece09f2-4512-4ca0-9bc1-5c6695cab77f",
   "metadata": {},
   "outputs": [
    {
     "name": "stdout",
     "output_type": "stream",
     "text": [
      "<class 'int'>\n",
      "1\n",
      "2\n",
      "<class 'tuple'>\n",
      "('python希望社', [])\n"
     ]
    }
   ],
   "source": [
    "def print_func(x,y,*args):\n",
    "    print(type(x))\n",
    "    print(x)\n",
    "    print(y)\n",
    "    print(type(args))\n",
    "    print(args)\n",
    "print_func(1,2,'python希望社',[]) #x-1,y-2,args-('python希望社',[])"
   ]
  },
  {
   "cell_type": "markdown",
   "id": "b3714562-a35a-44d1-a38b-f968cbcb3e02",
   "metadata": {},
   "source": [
    "将 *args 放在参数最前面,容易报错"
   ]
  },
  {
   "cell_type": "code",
   "execution_count": 48,
   "id": "ec5a2a9c-0c95-4be2-bf9a-05a2c71c5d8b",
   "metadata": {},
   "outputs": [
    {
     "ename": "TypeError",
     "evalue": "print_func() missing 2 required keyword-only arguments: 'x' and 'y'",
     "output_type": "error",
     "traceback": [
      "\u001b[1;31m---------------------------------------------------------------------------\u001b[0m",
      "\u001b[1;31mTypeError\u001b[0m                                 Traceback (most recent call last)",
      "Cell \u001b[1;32mIn[48], line 7\u001b[0m\n\u001b[0;32m      5\u001b[0m     \u001b[38;5;28mprint\u001b[39m(\u001b[38;5;28mtype\u001b[39m(args))\n\u001b[0;32m      6\u001b[0m     \u001b[38;5;28mprint\u001b[39m(args)\n\u001b[1;32m----> 7\u001b[0m print_func(\u001b[38;5;241m1\u001b[39m,\u001b[38;5;241m2\u001b[39m,\u001b[38;5;124m'\u001b[39m\u001b[38;5;124mpython希望社\u001b[39m\u001b[38;5;124m'\u001b[39m,[])\n",
      "\u001b[1;31mTypeError\u001b[0m: print_func() missing 2 required keyword-only arguments: 'x' and 'y'"
     ]
    }
   ],
   "source": [
    "def print_func(*args,x,y):\n",
    "    print(type(x))\n",
    "    print(x)\n",
    "    print(y)\n",
    "    print(type(args))\n",
    "    print(args)\n",
    "print_func(1,2,'python希望社',[])"
   ]
  },
  {
   "cell_type": "markdown",
   "id": "8fe5d842-6f9c-4c36-ac04-79f4662f98bb",
   "metadata": {},
   "source": [
    "可以看出，打印函数 print_func找不到关键词参数 x 和 y  \n",
    "所以若 *args 不是在最后，则需要在参数传入时，明确定义 *args后面的变量参数名，如下："
   ]
  },
  {
   "cell_type": "code",
   "execution_count": 49,
   "id": "7b352dde-330d-4fa9-ac9b-7d83daa415b7",
   "metadata": {},
   "outputs": [
    {
     "name": "stdout",
     "output_type": "stream",
     "text": [
      "<class 'str'>\n",
      "x\n",
      "y\n",
      "<class 'tuple'>\n",
      "(1, 2, 'python希望社', [])\n"
     ]
    }
   ],
   "source": [
    "# 改正的代码\n",
    "def print_func(*args,x,y):\n",
    "    print(type(x))\n",
    "    print(x)\n",
    "    print(y)\n",
    "    print(type(args))\n",
    "    print(args)\n",
    "print_func(1,2,'python希望社',[],x='x',y='y')\n",
    "\n",
    "#原文链接：https://blog.csdn.net/GODSuner/article/details/117961990"
   ]
  },
  {
   "cell_type": "markdown",
   "id": "e23c6563-a1b0-4b32-92f3-8bcdf777f68e",
   "metadata": {},
   "source": [
    "### ** kwargs 的用法"
   ]
  },
  {
   "cell_type": "markdown",
   "id": "b0a5284a-3d32-45a9-a883-f864b7d657df",
   "metadata": {},
   "source": [
    "<p>**kwargs允许你将不定长度的 【键值对 key-value 】，作为参数传递给一个函数。如果你想要在一个函数里处理带名字的参数，你应该使用**kwargs</p>"
   ]
  },
  {
   "cell_type": "code",
   "execution_count": 50,
   "id": "92336e47-f12d-4e21-893a-c7041e3444f3",
   "metadata": {
    "scrolled": true
   },
   "outputs": [
    {
     "ename": "TypeError",
     "evalue": "print_func() takes 0 positional arguments but 4 were given",
     "output_type": "error",
     "traceback": [
      "\u001b[1;31m---------------------------------------------------------------------------\u001b[0m",
      "\u001b[1;31mTypeError\u001b[0m                                 Traceback (most recent call last)",
      "Cell \u001b[1;32mIn[50], line 4\u001b[0m\n\u001b[0;32m      2\u001b[0m     \u001b[38;5;28mprint\u001b[39m(\u001b[38;5;28mtype\u001b[39m(kwargs))\n\u001b[0;32m      3\u001b[0m     \u001b[38;5;28mprint\u001b[39m(kwargs)\n\u001b[1;32m----> 4\u001b[0m print_func(\u001b[38;5;241m1\u001b[39m, \u001b[38;5;241m2\u001b[39m, \u001b[38;5;124m'\u001b[39m\u001b[38;5;124mpython希望社\u001b[39m\u001b[38;5;124m'\u001b[39m, [])\n",
      "\u001b[1;31mTypeError\u001b[0m: print_func() takes 0 positional arguments but 4 were given"
     ]
    }
   ],
   "source": [
    "def print_func(**kwargs):\n",
    "    print(type(kwargs))\n",
    "    print(kwargs)\n",
    "print_func(1, 2, 'python希望社', []) #因为不是键值对，所以会报错"
   ]
  },
  {
   "cell_type": "markdown",
   "id": "e996b62c-a984-4b04-af98-919f8e6c874b",
   "metadata": {},
   "source": [
    "直接报错了，大致意思是需要给出四个参数！ 改正："
   ]
  },
  {
   "cell_type": "code",
   "execution_count": 51,
   "id": "aa0fbca6-8421-43ff-ae81-54c54b0a2751",
   "metadata": {},
   "outputs": [
    {
     "name": "stdout",
     "output_type": "stream",
     "text": [
      "<class 'dict'>\n",
      "{'a': 1, 'b': 2, 'c': '呵呵哒', 'd': []}\n"
     ]
    }
   ],
   "source": [
    "def print_func(**kwargs):\n",
    "    print(type(kwargs))\n",
    "    print(kwargs)\n",
    "\n",
    "print_func(a=1, b=2, c='呵呵哒', d=[]) #用变量=数值的形式赋予键值对"
   ]
  },
  {
   "cell_type": "code",
   "execution_count": 52,
   "id": "da5b62a4-faf7-47eb-8fca-6e074b4a769d",
   "metadata": {},
   "outputs": [
    {
     "name": "stdout",
     "output_type": "stream",
     "text": [
      "name == ZUST\n",
      "grad == 3\n"
     ]
    }
   ],
   "source": [
    "def greet_me(**kwargs):\n",
    "    for key, value in kwargs.items():\n",
    "        print(\"{0} == {1}\".format(key, value))\n",
    "greet_me(name=\"ZUST\",grad=3)"
   ]
  },
  {
   "cell_type": "markdown",
   "id": "5e2cd683-b2aa-4997-b711-f9efb7855212",
   "metadata": {},
   "source": [
    "组合使用 args,*args 和 **kwargs 来调用函数"
   ]
  },
  {
   "cell_type": "markdown",
   "id": "c06df0e4-5a8e-4e94-a80e-ec35d039a311",
   "metadata": {},
   "source": [
    "arg,*args,**kwargs ,三者是可以组合使用的，但是组合使用需要遵循一定的语法规则，即顺序为王\n",
    "\n",
    "需要按照：\n",
    "\n",
    "\r\n",
    "arg,*args,**kwargs 作为函数顺序顺序"
   ]
  },
  {
   "cell_type": "code",
   "execution_count": 53,
   "id": "12e1bcab-f397-4196-a2a0-ff60bf37d5f3",
   "metadata": {},
   "outputs": [
    {
     "name": "stdout",
     "output_type": "stream",
     "text": [
      "1\n",
      "(2, 3, 4)\n",
      "{'y': 1, 'a': 2, 'b': 3, 'c': 4}\n"
     ]
    }
   ],
   "source": [
    "def print_func(x, *args, **kwargs):\n",
    "    print(x)\n",
    "    print(args)\n",
    "    print(kwargs)\n",
    "\n",
    "print_func(1, 2, 3, 4, y=1, a=2, b=3, c=4) #x=1,args=(2,3,4),kwargs={'y':1,'a':2,'b':3,'c':4}"
   ]
  },
  {
   "cell_type": "code",
   "execution_count": 54,
   "id": "f8e57427-d3dc-4bf1-9b73-e0168aac82a9",
   "metadata": {},
   "outputs": [
    {
     "name": "stdout",
     "output_type": "stream",
     "text": [
      "arg1: two\n",
      "arg2: 3\n",
      "arg3: 5\n"
     ]
    }
   ],
   "source": [
    "def test_args_kwargs(arg1,arg2,arg3):\n",
    "    print(\"arg1:\",arg1)\n",
    "    print(\"arg2:\",arg2)\n",
    "    print(\"arg3:\",arg3)\n",
    "\n",
    "\n",
    "# 首先可以使用 *args\n",
    "args = (\"two\",3,5)\n",
    "test_args_kwargs(*args)"
   ]
  },
  {
   "cell_type": "markdown",
   "id": "52983a8d-c06b-4ad0-bf9e-73d4cfd83ce2",
   "metadata": {},
   "source": [
    "使用 **kwargs"
   ]
  },
  {
   "cell_type": "code",
   "execution_count": 56,
   "id": "ba19abdb-4d19-490f-a0dd-2ed81784a9b9",
   "metadata": {},
   "outputs": [
    {
     "name": "stdout",
     "output_type": "stream",
     "text": [
      "arg1: 5\n",
      "arg2: two\n",
      "arg3: 3\n"
     ]
    }
   ],
   "source": [
    "def test_args_kwargs(arg1,arg2,arg3):\n",
    "    print(\"arg1:\",arg1)\n",
    "    print(\"arg2:\",arg2)\n",
    "    print(\"arg3:\",arg3)\n",
    "\n",
    "kwargs = {\"arg3\": 3,\"arg2\":\"two\",\"arg1\":5}\n",
    "test_args_kwargs(**kwargs)"
   ]
  },
  {
   "cell_type": "markdown",
   "id": "f9c39272-395b-4a76-8d22-6c79f6b2f868",
   "metadata": {},
   "source": [
    "## 装饰器--面向对象深度学习/机器学习编程中常见的语法糖"
   ]
  },
  {
   "cell_type": "markdown",
   "id": "02ae56f9-e2c0-4a4a-aa64-fc2588261a18",
   "metadata": {},
   "source": [
    "装饰器(decorator)是一种高级Python语法，也是 Python 函数式编程的一部分。写法是 @xxx，在Pytorch、Pandas、Django 框架源码里经常能见到"
   ]
  },
  {
   "cell_type": "markdown",
   "id": "32c14c45-c111-435d-9cee-b0b8a1c5282f",
   "metadata": {},
   "source": [
    "可以让你的代码更简洁，可读性更高；业务逻辑解耦，维护更容易"
   ]
  },
  {
   "cell_type": "markdown",
   "id": "efa5a0f3-e976-426b-95e3-16b427ee7a4c",
   "metadata": {},
   "source": [
    "### 函数基础"
   ]
  },
  {
   "cell_type": "markdown",
   "id": "809bd2cb-8d3e-4507-bf14-8410b8193032",
   "metadata": {},
   "source": [
    "学习装饰器之前，我们先学习下 Python 函数的两个特性，函数体内可以定义函数 和 函数可以被引用。"
   ]
  },
  {
   "cell_type": "markdown",
   "id": "e003796b-3116-4aea-8ba0-358db22100bb",
   "metadata": {},
   "source": [
    "例1. 函数体内定义函数"
   ]
  },
  {
   "cell_type": "code",
   "execution_count": 57,
   "id": "15ca213f-8770-4fba-b0ae-5207b2909c9f",
   "metadata": {},
   "outputs": [],
   "source": [
    "def func1(): #在 func1 函数体内， 定义了一个 func2 函数并调用，然后返回调用的结果\n",
    "    def func2():\n",
    "        return \"in func2\"\n",
    "\n",
    "    res = func2()\n",
    "\n",
    "    return res   "
   ]
  },
  {
   "cell_type": "code",
   "execution_count": 58,
   "id": "6a2832c9-b53d-4f57-8edd-ab9c324d8b41",
   "metadata": {},
   "outputs": [
    {
     "data": {
      "text/plain": [
       "'in func2'"
      ]
     },
     "execution_count": 58,
     "metadata": {},
     "output_type": "execute_result"
    }
   ],
   "source": [
    "func1()"
   ]
  },
  {
   "cell_type": "markdown",
   "id": "29d80c57-250a-40db-9efc-0be546a3cbf7",
   "metadata": {},
   "source": [
    "例2.函数可以被引用"
   ]
  },
  {
   "cell_type": "code",
   "execution_count": 59,
   "id": "9b0271d0-1509-4de0-a0e6-7d1c8a1fe6b9",
   "metadata": {},
   "outputs": [
    {
     "name": "stdout",
     "output_type": "stream",
     "text": [
      "in func2\n"
     ]
    }
   ],
   "source": [
    "new_func = func1 # 函数名可以像变量那样使用\n",
    "print(new_func()) # 赋值后，new_func就引用了 func1，就可以直接通过 new_func() 方式来调用函数"
   ]
  },
  {
   "cell_type": "markdown",
   "id": "3f2a9632-1ece-4a35-9a4c-a5d77a0d9b77",
   "metadata": {},
   "source": [
    "既然函数名可以像变量一样赋值，那自然就可以被 return 返回"
   ]
  },
  {
   "cell_type": "code",
   "execution_count": 63,
   "id": "158c3d7c-61af-4f48-b30b-7da4106d7253",
   "metadata": {},
   "outputs": [],
   "source": [
    "def func1():\n",
    "    def func2():\n",
    "        return \"in func2\"\n",
    "\n",
    "    #print(func2)\n",
    "    return func2"
   ]
  },
  {
   "cell_type": "code",
   "execution_count": 64,
   "id": "6caacce9-8b15-42a1-85e1-6e4927120c38",
   "metadata": {},
   "outputs": [
    {
     "name": "stdout",
     "output_type": "stream",
     "text": [
      "in func2\n"
     ]
    }
   ],
   "source": [
    "new_func = func1()  # func1()的返回值赋(func2函数名)给了new_func，相当于new_fun = func2\n",
    "#print(new_func)     # 相当于print(func2)\n",
    "print(new_func())   # 相当于print(func2())"
   ]
  },
  {
   "cell_type": "markdown",
   "id": "6cbd3235-c6d3-450e-838b-6f86cb66a059",
   "metadata": {},
   "source": [
    "有了上面的基础，再学习装饰器就很容易了。下面通过一个 “炒土豆丝” 的例子来学习装饰器\n",
    "\n",
    "https://juejin.cn/post/7110397327344402439"
   ]
  },
  {
   "cell_type": "markdown",
   "id": "4c15a59e-761b-42f6-8286-8da37311b203",
   "metadata": {},
   "source": [
    "例3. “炒土豆丝”基础版"
   ]
  },
  {
   "cell_type": "code",
   "execution_count": 65,
   "id": "7106e61e-f8ae-46fe-beea-77c66df74c48",
   "metadata": {},
   "outputs": [
    {
     "name": "stdout",
     "output_type": "stream",
     "text": [
      "1. 清洗土豆\n",
      "2. 去皮，切丝\n",
      "3. 清炒\n",
      "4. 出锅\n"
     ]
    }
   ],
   "source": [
    "def tu_dou_si():\n",
    "    \"\"\"\n",
    "    \"清炒土豆丝\" 流程\n",
    "    \"\"\"\n",
    "    print('1. 清洗土豆')\n",
    "    print('2. 去皮，切丝')\n",
    "    print('3. 清炒')\n",
    "    print('4. 出锅')\n",
    "tu_dou_si()"
   ]
  },
  {
   "cell_type": "markdown",
   "id": "8b47481b-0859-490f-b1cc-74613c34a577",
   "metadata": {},
   "source": [
    "例4. “炒土豆丝”装饰器版"
   ]
  },
  {
   "cell_type": "code",
   "execution_count": 66,
   "id": "b3eef434-4cb6-465c-be12-293dc54250e9",
   "metadata": {},
   "outputs": [
    {
     "name": "stdout",
     "output_type": "stream",
     "text": [
      "1. 清洗土豆\n",
      "2. 去皮，切丝\n",
      "3. 清炒\n",
      "4. 出锅\n"
     ]
    }
   ],
   "source": [
    "def my_decorator(func):\n",
    "    def wrapper():\n",
    "        func()\n",
    "        print('3. 清炒')\n",
    "        print('4. 出锅')\n",
    "\n",
    "    return wrapper\n",
    "\n",
    "def tu_dou_si():\n",
    "    print('1. 清洗土豆')\n",
    "    print('2. 去皮，切丝')\n",
    "\n",
    "qing_chao_tu_dou_si = my_decorator(tu_dou_si) #相当于qing_chao_tu_dou_si=wrapper,这里的wrapper中的func为tu_dou_si\n",
    "qing_chao_tu_dou_si() #相当于调用tu_dou_si()，之后再输出print('3. 清炒')和print('4. 出锅')"
   ]
  },
  {
   "cell_type": "code",
   "execution_count": 67,
   "id": "105b7a58-6528-44a4-b2f3-4df74893e3a6",
   "metadata": {},
   "outputs": [
    {
     "name": "stdout",
     "output_type": "stream",
     "text": [
      "1. 清洗土豆\n",
      "2. 去皮，切丝\n",
      "3. 清炒\n",
      "4. 出锅\n"
     ]
    }
   ],
   "source": [
    "def my_decorator(func):\n",
    "    def wrapper():\n",
    "        print('1. 清洗土豆')\n",
    "        func()        \n",
    "        print('4. 出锅')\n",
    "\n",
    "    return wrapper\n",
    "\n",
    "def tu_dou_si():    \n",
    "    print('2. 去皮，切丝')\n",
    "    print('3. 清炒')\n",
    "\n",
    "qing_chao_tu_dou_si = my_decorator(tu_dou_si) #相当于qing_chao_tu_dou_si=wrapper,这里的wrapper中的func为tu_dou_si\n",
    "qing_chao_tu_dou_si() #相当于调用tu_dou_si()，之后再输出print('3. 清炒')和print('4. 出锅')"
   ]
  },
  {
   "cell_type": "markdown",
   "id": "1b50d7bd-23da-4e50-83f9-2af88625963a",
   "metadata": {},
   "source": [
    "<strong>对于上面例4的代码 Python 换一种方式来实现</strong>"
   ]
  },
  {
   "cell_type": "code",
   "execution_count": 39,
   "id": "c87d7d17-5d8a-4537-8328-39e76478b8e9",
   "metadata": {
    "collapsed": true,
    "jupyter": {
     "outputs_hidden": true
    }
   },
   "outputs": [
    {
     "name": "stdout",
     "output_type": "stream",
     "text": [
      "1. 清洗土豆\n",
      "2. 去皮，切丝\n",
      "3. 清炒\n",
      "4. 出锅\n"
     ]
    }
   ],
   "source": [
    "def my_decorator(func):\n",
    "    def wrapper():\n",
    "        func()\n",
    "        print('3. 清炒')\n",
    "        print('4. 出锅')\n",
    "\n",
    "    return wrapper\n",
    "\n",
    "@my_decorator  #相当于 tu_dou_si = my_decorator(tu_dou_si)\n",
    "def tu_dou_si():\n",
    "    print('1. 清洗土豆')\n",
    "    print('2. 去皮，切丝')\n",
    "\n",
    "tu_dou_si()  #相当于调用tu_dou_si()，之后再输出print('3. 清炒')和print('4. 出锅')\n"
   ]
  },
  {
   "cell_type": "markdown",
   "id": "cbdd2eb7-29d9-4cb2-8f77-f8d315c46b2e",
   "metadata": {},
   "source": [
    "因为 tu_dou_si 函数已经被 my_decorator 装饰过了， 所以，直接调用 tu_dou_si 函数即可完成 “清炒土豆丝”的流程"
   ]
  },
  {
   "cell_type": "markdown",
   "id": "e9d39360-46a2-4270-830f-383f9ada95fb",
   "metadata": {},
   "source": [
    "### 装饰器的优势"
   ]
  },
  {
   "cell_type": "code",
   "execution_count": null,
   "id": "a65b0b4e-ee07-4cb9-bfc1-b1f0e4e3b5a1",
   "metadata": {
    "collapsed": true,
    "jupyter": {
     "outputs_hidden": true
    }
   },
   "outputs": [],
   "source": []
  },
  {
   "cell_type": "markdown",
   "id": "ff4623e9-aa30-4f85-bf7e-5b7a2fd2d918",
   "metadata": {},
   "source": [
    "问题1.要再实现一个“清炒山药”的流程，怎么做？"
   ]
  },
  {
   "cell_type": "code",
   "execution_count": 43,
   "id": "f26d8dd5-f058-4444-bb8d-dc4db42f4aeb",
   "metadata": {
    "collapsed": true,
    "jupyter": {
     "outputs_hidden": true
    }
   },
   "outputs": [
    {
     "name": "stdout",
     "output_type": "stream",
     "text": [
      "1. 清洗山药\n",
      "2. 去皮，切丝\n",
      "3. 清炒\n",
      "4. 出锅\n"
     ]
    }
   ],
   "source": [
    "def my_decorator(func):\n",
    "    def wrapper():\n",
    "        func()\n",
    "        print('3. 清炒')\n",
    "        print('4. 出锅')\n",
    "\n",
    "    return wrapper\n",
    "\n",
    "\n",
    "@my_decorator\n",
    "def shan_yao():\n",
    "    print('1. 清洗山药')\n",
    "    print('2. 去皮，切丝')\n",
    "\n",
    "shan_yao()"
   ]
  },
  {
   "cell_type": "markdown",
   "id": "4e6ada9f-ce70-4406-ae92-7730e16323b4",
   "metadata": {},
   "source": [
    "用装饰器来实现可以复用 my_decorator 中print('3. 清炒')和print('4. 出锅')，增加代码复用性，使整体代码更简洁。"
   ]
  },
  {
   "cell_type": "markdown",
   "id": "868c2bcf-54e3-4f8a-85df-4bd04198c76f",
   "metadata": {},
   "source": [
    "问题2.想把“清炒”土豆丝改成“凉拌”土豆丝，怎么办？"
   ]
  },
  {
   "cell_type": "markdown",
   "id": "dccf5305-6f7d-4cd2-8fbc-096078f4020a",
   "metadata": {},
   "source": [
    "直接修改 my_decorator 业务就可以了，不会对其他业务(函数)产生副作用"
   ]
  },
  {
   "cell_type": "code",
   "execution_count": 68,
   "id": "5b509d8b-4d26-4ab7-94d1-ad1e033165d8",
   "metadata": {},
   "outputs": [
    {
     "name": "stdout",
     "output_type": "stream",
     "text": [
      "1. 清洗土豆\n",
      "2. 去皮，切丝\n",
      "3. 凉拌\n",
      "4. 出锅\n"
     ]
    }
   ],
   "source": [
    "def my_decorator(func):\n",
    "    def wrapper():\n",
    "        func()\n",
    "        print('3. 凉拌') #修改这里\n",
    "        print('4. 出锅')\n",
    "\n",
    "    return wrapper\n",
    "\n",
    "@my_decorator  #相当于 tu_dou_si = my_decorator(tu_dou_si)\n",
    "def tu_dou_si():\n",
    "    print('1. 清洗土豆')\n",
    "    print('2. 去皮，切丝')\n",
    "\n",
    "tu_dou_si()"
   ]
  },
  {
   "cell_type": "markdown",
   "id": "c870ed16-59d0-477d-8ad4-6d5ae2310380",
   "metadata": {},
   "source": [
    "理解了上面两个问题，我们也就知道了装饰器的作用。如果不使用装饰器（如：例3 ）要么会产生代码冗余，要么就函数耦合在一起改一个函数影响到另外的函数。"
   ]
  },
  {
   "cell_type": "markdown",
   "id": "4240c8b8-a88e-4019-b3b6-b1d503670b20",
   "metadata": {},
   "source": [
    "https://juejin.cn/post/7110397327344402439"
   ]
  },
  {
   "cell_type": "markdown",
   "id": "947d3ebb-44b2-4fff-8236-61f601b289bc",
   "metadata": {},
   "source": [
    "## 装饰类"
   ]
  },
  {
   "cell_type": "markdown",
   "id": "c208e434-3ed0-4b3e-8719-a1cb4376c1c7",
   "metadata": {},
   "source": [
    "类装饰器的用法跟函数是一样的,下面我们就定义一个英雄类，然后定义一个皮肤类装饰它。"
   ]
  },
  {
   "cell_type": "code",
   "execution_count": 70,
   "id": "f4a3b645-cfe6-4050-822a-a06818e88a13",
   "metadata": {},
   "outputs": [
    {
     "name": "stdout",
     "output_type": "stream",
     "text": [
      "展示英雄亚瑟\n",
      "展示皮肤死亡骑士\n"
     ]
    }
   ],
   "source": [
    "def pi_fu(cls):\n",
    "    class PiFuClass:\n",
    "        def __init__(self, name, pi_fu_name):\n",
    "            self.wrapped = cls(name, pi_fu_name)\n",
    "            self.pi_fu_name = pi_fu_name\n",
    "\n",
    "        def display(self):\n",
    "            self.wrapped.display()\n",
    "            print(f'展示皮肤{self.pi_fu_name}')\n",
    "\n",
    "    return PiFuClass\n",
    "\n",
    "\n",
    "@pi_fu\n",
    "class YingXiong:# YingXiong = pi_fu(YingXiong)\n",
    "    def __init__(self, name, pi_fu_name):\n",
    "        self.name = name\n",
    "        self.pi_fu_name = pi_fu_name\n",
    "\n",
    "    def display(self):\n",
    "        print(f'展示英雄{self.name}')\n",
    "\n",
    "\n",
    "ya_se = YingXiong('亚瑟', '死亡骑士')\n",
    "ya_se.display()\n",
    "\n"
   ]
  },
  {
   "cell_type": "markdown",
   "id": "8df81089-5e29-4a61-bbbf-5f3a6107915d",
   "metadata": {},
   "source": [
    "# python面向对象程序设计--下节课再讲"
   ]
  },
  {
   "cell_type": "markdown",
   "id": "55497c0b-bc5b-4abd-9e59-187bed64b608",
   "metadata": {},
   "source": [
    "语雀笔记放映：A Visual Intro to NumPy and Data Representation"
   ]
  },
  {
   "cell_type": "markdown",
   "id": "a2f4e05e-d6f0-4ea8-b9ca-97464e5c59ca",
   "metadata": {},
   "source": [
    "转移到   numpy https://ptorch.com/docs/9/numpy-quickstart-tutorial"
   ]
  },
  {
   "cell_type": "markdown",
   "id": "190a18cd-2912-4a58-a2d4-e8727a9b90c6",
   "metadata": {},
   "source": [
    "python+openCV https://opencv-python-tutorials.readthedocs.io/zh/latest/"
   ]
  },
  {
   "cell_type": "markdown",
   "id": "f1719ae2-e32f-4592-be96-8c0edb9168db",
   "metadata": {},
   "source": [
    "https://woshicver.com/ThirdSection/2_1_%E5%9B%BE%E5%83%8F%E5%85%A5%E9%97%A8/"
   ]
  },
  {
   "cell_type": "markdown",
   "id": "00fc4509-c1da-44df-9422-4a7f11387c66",
   "metadata": {},
   "source": [
    "https://opencv.apachecn.org/4.0.0/10.1-tutorial_py_face_detection/"
   ]
  },
  {
   "cell_type": "code",
   "execution_count": null,
   "id": "6bd1c807-63d4-455a-8dc3-7ed27cfb6338",
   "metadata": {
    "collapsed": true,
    "jupyter": {
     "outputs_hidden": true
    }
   },
   "outputs": [],
   "source": []
  },
  {
   "cell_type": "code",
   "execution_count": null,
   "id": "92b19b9b-2fdd-4e7e-9d18-e8ffa220ead7",
   "metadata": {
    "collapsed": true,
    "jupyter": {
     "outputs_hidden": true
    }
   },
   "outputs": [],
   "source": []
  },
  {
   "cell_type": "code",
   "execution_count": null,
   "id": "136b44b8-6872-47ee-a3a6-ad393ce8ab54",
   "metadata": {
    "collapsed": true,
    "jupyter": {
     "outputs_hidden": true
    }
   },
   "outputs": [],
   "source": [
    "#装饰器\n",
    "#用spyder演示py文件的模块，解释__name__='__main__'\n",
    "#面向对象python\n",
    "#IO编程\n",
    "#Numpy\n",
    "#OpenCV\n",
    "\n",
    "#测试\n",
    "\n",
    "#多线程\n"
   ]
  },
  {
   "cell_type": "code",
   "execution_count": null,
   "id": "bf98a57c-a056-4650-b85f-93cd816aa01f",
   "metadata": {
    "collapsed": true,
    "jupyter": {
     "outputs_hidden": true
    }
   },
   "outputs": [],
   "source": []
  },
  {
   "cell_type": "code",
   "execution_count": null,
   "id": "93541b13-3d39-4b16-94a1-34d75f1100d4",
   "metadata": {
    "collapsed": true,
    "jupyter": {
     "outputs_hidden": true
    }
   },
   "outputs": [],
   "source": []
  }
 ],
 "metadata": {
  "kernelspec": {
   "display_name": "Python 3 (ipykernel)",
   "language": "python",
   "name": "python3"
  },
  "language_info": {
   "codemirror_mode": {
    "name": "ipython",
    "version": 3
   },
   "file_extension": ".py",
   "mimetype": "text/x-python",
   "name": "python",
   "nbconvert_exporter": "python",
   "pygments_lexer": "ipython3",
   "version": "3.11.4"
  }
 },
 "nbformat": 4,
 "nbformat_minor": 5
}
